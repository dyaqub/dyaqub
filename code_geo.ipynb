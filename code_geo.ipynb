{
 "cells": [
  {
   "cell_type": "code",
   "execution_count": 1,
   "metadata": {},
   "outputs": [
    {
     "name": "stderr",
     "output_type": "stream",
     "text": [
      "c:\\Users\\balogy\\Anaconda3\\lib\\site-packages\\pandas\\core\\computation\\expressions.py:20: UserWarning: Pandas requires version '2.7.3' or newer of 'numexpr' (version '2.7.1' currently installed).\n",
      "  from pandas.core.computation.check import NUMEXPR_INSTALLED\n"
     ]
    }
   ],
   "source": [
    "import openpyxl\n",
    "import numpy as np\n",
    "np.float = float\n",
    "np.int = int\n",
    "np.object = object\n",
    "np.bool = bool\n",
    "np.str = str\n",
    "\n",
    "import pandas as pd\n",
    "import geopandas as gpd\n",
    "import matplotlib.pyplot as plt\n",
    "\n",
    "\n"
   ]
  },
  {
   "cell_type": "code",
   "execution_count": 2,
   "metadata": {},
   "outputs": [],
   "source": [
    "data_path = 'C:/dissemination_team/gdhi_qa/ITL_Data.xlsx'\n",
    "shape_path = 'C:/dissemination_team/gdhi_qa/NUTS1_Jan_2018_UGCB_in_the_UK_2022_-7602393063213847322/NUTS1_Jan_2018_UGCB_in_the_UK.shp'"
   ]
  },
  {
   "cell_type": "code",
   "execution_count": 3,
   "metadata": {},
   "outputs": [],
   "source": [
    "df = pd.read_excel(data_path)\n",
    "shape = gpd.read_file(shape_path)"
   ]
  },
  {
   "cell_type": "code",
   "execution_count": 29,
   "metadata": {},
   "outputs": [],
   "source": [
    "'''\n",
    "gdf = shape\n",
    "# Convert GeoDataFrame to DataFrame\n",
    "df1 = pd.DataFrame(gdf.drop(columns='geometry'))\n",
    "# Save DataFrame to Excel\n",
    "df1.to_csv('itlshape.csv', index=False)\n",
    "'''"
   ]
  },
  {
   "cell_type": "code",
   "execution_count": 4,
   "metadata": {},
   "outputs": [
    {
     "data": {
      "text/html": [
       "<div>\n",
       "<style scoped>\n",
       "    .dataframe tbody tr th:only-of-type {\n",
       "        vertical-align: middle;\n",
       "    }\n",
       "\n",
       "    .dataframe tbody tr th {\n",
       "        vertical-align: top;\n",
       "    }\n",
       "\n",
       "    .dataframe thead th {\n",
       "        text-align: right;\n",
       "    }\n",
       "</style>\n",
       "<table border=\"1\" class=\"dataframe\">\n",
       "  <thead>\n",
       "    <tr style=\"text-align: right;\">\n",
       "      <th></th>\n",
       "      <th>Organisation</th>\n",
       "      <th>ITL1</th>\n",
       "      <th>Score</th>\n",
       "    </tr>\n",
       "  </thead>\n",
       "  <tbody>\n",
       "    <tr>\n",
       "      <th>0</th>\n",
       "      <td>UKC</td>\n",
       "      <td>North East (England)</td>\n",
       "      <td>0.25</td>\n",
       "    </tr>\n",
       "    <tr>\n",
       "      <th>1</th>\n",
       "      <td>UKD</td>\n",
       "      <td>North West (England)</td>\n",
       "      <td>0.65</td>\n",
       "    </tr>\n",
       "    <tr>\n",
       "      <th>2</th>\n",
       "      <td>UKE</td>\n",
       "      <td>Yorkshire and The Humber</td>\n",
       "      <td>0.63</td>\n",
       "    </tr>\n",
       "    <tr>\n",
       "      <th>3</th>\n",
       "      <td>UKF</td>\n",
       "      <td>East Midlands (England)</td>\n",
       "      <td>0.21</td>\n",
       "    </tr>\n",
       "    <tr>\n",
       "      <th>4</th>\n",
       "      <td>UKG</td>\n",
       "      <td>West Midlands (England)</td>\n",
       "      <td>0.47</td>\n",
       "    </tr>\n",
       "  </tbody>\n",
       "</table>\n",
       "</div>"
      ],
      "text/plain": [
       "  Organisation                      ITL1  Score\n",
       "0          UKC      North East (England)   0.25\n",
       "1          UKD      North West (England)   0.65\n",
       "2          UKE  Yorkshire and The Humber   0.63\n",
       "3          UKF   East Midlands (England)   0.21\n",
       "4          UKG   West Midlands (England)   0.47"
      ]
     },
     "execution_count": 4,
     "metadata": {},
     "output_type": "execute_result"
    }
   ],
   "source": [
    "df.head()"
   ]
  },
  {
   "cell_type": "code",
   "execution_count": 5,
   "metadata": {},
   "outputs": [
    {
     "data": {
      "text/html": [
       "<div>\n",
       "<style scoped>\n",
       "    .dataframe tbody tr th:only-of-type {\n",
       "        vertical-align: middle;\n",
       "    }\n",
       "\n",
       "    .dataframe tbody tr th {\n",
       "        vertical-align: top;\n",
       "    }\n",
       "\n",
       "    .dataframe thead th {\n",
       "        text-align: right;\n",
       "    }\n",
       "</style>\n",
       "<table border=\"1\" class=\"dataframe\">\n",
       "  <thead>\n",
       "    <tr style=\"text-align: right;\">\n",
       "      <th></th>\n",
       "      <th>nuts118cd</th>\n",
       "      <th>nuts118nm</th>\n",
       "      <th>bng_e</th>\n",
       "      <th>bng_n</th>\n",
       "      <th>long</th>\n",
       "      <th>lat</th>\n",
       "      <th>GlobalID</th>\n",
       "      <th>geometry</th>\n",
       "    </tr>\n",
       "  </thead>\n",
       "  <tbody>\n",
       "    <tr>\n",
       "      <th>0</th>\n",
       "      <td>UKC</td>\n",
       "      <td>North East (England)</td>\n",
       "      <td>417313</td>\n",
       "      <td>600358</td>\n",
       "      <td>-1.72890</td>\n",
       "      <td>55.297031</td>\n",
       "      <td>628608f5-673c-45c8-9082-f57ed9604a20</td>\n",
       "      <td>MULTIPOLYGON (((397942.931 657535.008, 400000....</td>\n",
       "    </tr>\n",
       "    <tr>\n",
       "      <th>1</th>\n",
       "      <td>UKD</td>\n",
       "      <td>North West (England)</td>\n",
       "      <td>350015</td>\n",
       "      <td>506280</td>\n",
       "      <td>-2.77237</td>\n",
       "      <td>54.449451</td>\n",
       "      <td>0413c215-94f7-4f2e-a0fd-37d517177413</td>\n",
       "      <td>MULTIPOLYGON (((357136.203 587050.898, 356937....</td>\n",
       "    </tr>\n",
       "    <tr>\n",
       "      <th>2</th>\n",
       "      <td>UKE</td>\n",
       "      <td>Yorkshire and The Humber</td>\n",
       "      <td>446903</td>\n",
       "      <td>448736</td>\n",
       "      <td>-1.28712</td>\n",
       "      <td>53.932640</td>\n",
       "      <td>d608863c-86bd-4877-b3b8-247794a0825a</td>\n",
       "      <td>POLYGON ((479999.978 517670.160, 481340.496 51...</td>\n",
       "    </tr>\n",
       "    <tr>\n",
       "      <th>3</th>\n",
       "      <td>UKF</td>\n",
       "      <td>East Midlands (England)</td>\n",
       "      <td>477660</td>\n",
       "      <td>322635</td>\n",
       "      <td>-0.84967</td>\n",
       "      <td>52.795719</td>\n",
       "      <td>428c9691-f97b-4fa3-aef8-b3d8c0789cf9</td>\n",
       "      <td>POLYGON ((516022.702 412210.895, 515854.099 41...</td>\n",
       "    </tr>\n",
       "    <tr>\n",
       "      <th>4</th>\n",
       "      <td>UKG</td>\n",
       "      <td>West Midlands (England)</td>\n",
       "      <td>386294</td>\n",
       "      <td>295477</td>\n",
       "      <td>-2.20358</td>\n",
       "      <td>52.556969</td>\n",
       "      <td>a8a5953c-6a23-4fca-b1c7-96d80a29dd95</td>\n",
       "      <td>POLYGON ((409402.997 365710.796, 412633.099 36...</td>\n",
       "    </tr>\n",
       "  </tbody>\n",
       "</table>\n",
       "</div>"
      ],
      "text/plain": [
       "  nuts118cd                 nuts118nm   bng_e   bng_n     long        lat  \\\n",
       "0       UKC      North East (England)  417313  600358 -1.72890  55.297031   \n",
       "1       UKD      North West (England)  350015  506280 -2.77237  54.449451   \n",
       "2       UKE  Yorkshire and The Humber  446903  448736 -1.28712  53.932640   \n",
       "3       UKF   East Midlands (England)  477660  322635 -0.84967  52.795719   \n",
       "4       UKG   West Midlands (England)  386294  295477 -2.20358  52.556969   \n",
       "\n",
       "                               GlobalID  \\\n",
       "0  628608f5-673c-45c8-9082-f57ed9604a20   \n",
       "1  0413c215-94f7-4f2e-a0fd-37d517177413   \n",
       "2  d608863c-86bd-4877-b3b8-247794a0825a   \n",
       "3  428c9691-f97b-4fa3-aef8-b3d8c0789cf9   \n",
       "4  a8a5953c-6a23-4fca-b1c7-96d80a29dd95   \n",
       "\n",
       "                                            geometry  \n",
       "0  MULTIPOLYGON (((397942.931 657535.008, 400000....  \n",
       "1  MULTIPOLYGON (((357136.203 587050.898, 356937....  \n",
       "2  POLYGON ((479999.978 517670.160, 481340.496 51...  \n",
       "3  POLYGON ((516022.702 412210.895, 515854.099 41...  \n",
       "4  POLYGON ((409402.997 365710.796, 412633.099 36...  "
      ]
     },
     "execution_count": 5,
     "metadata": {},
     "output_type": "execute_result"
    }
   ],
   "source": [
    "shape.head()"
   ]
  },
  {
   "cell_type": "code",
   "execution_count": 7,
   "metadata": {},
   "outputs": [],
   "source": [
    "shape = pd.merge(\n",
    "    left=shape,\n",
    "    right=df,\n",
    "    left_on='nuts118nm',\n",
    "    right_on='ITL1',\n",
    "    how='left'\n",
    ")"
   ]
  },
  {
   "cell_type": "code",
   "execution_count": 8,
   "metadata": {},
   "outputs": [
    {
     "data": {
      "text/html": [
       "<div>\n",
       "<style scoped>\n",
       "    .dataframe tbody tr th:only-of-type {\n",
       "        vertical-align: middle;\n",
       "    }\n",
       "\n",
       "    .dataframe tbody tr th {\n",
       "        vertical-align: top;\n",
       "    }\n",
       "\n",
       "    .dataframe thead th {\n",
       "        text-align: right;\n",
       "    }\n",
       "</style>\n",
       "<table border=\"1\" class=\"dataframe\">\n",
       "  <thead>\n",
       "    <tr style=\"text-align: right;\">\n",
       "      <th></th>\n",
       "      <th>nuts118cd</th>\n",
       "      <th>nuts118nm</th>\n",
       "      <th>bng_e</th>\n",
       "      <th>bng_n</th>\n",
       "      <th>long</th>\n",
       "      <th>lat</th>\n",
       "      <th>GlobalID</th>\n",
       "      <th>geometry</th>\n",
       "      <th>Organisation</th>\n",
       "      <th>ITL1</th>\n",
       "      <th>Score</th>\n",
       "    </tr>\n",
       "  </thead>\n",
       "  <tbody>\n",
       "    <tr>\n",
       "      <th>0</th>\n",
       "      <td>UKC</td>\n",
       "      <td>North East (England)</td>\n",
       "      <td>417313</td>\n",
       "      <td>600358</td>\n",
       "      <td>-1.72890</td>\n",
       "      <td>55.297031</td>\n",
       "      <td>628608f5-673c-45c8-9082-f57ed9604a20</td>\n",
       "      <td>MULTIPOLYGON (((397942.931 657535.008, 400000....</td>\n",
       "      <td>UKC</td>\n",
       "      <td>North East (England)</td>\n",
       "      <td>0.25</td>\n",
       "    </tr>\n",
       "    <tr>\n",
       "      <th>1</th>\n",
       "      <td>UKD</td>\n",
       "      <td>North West (England)</td>\n",
       "      <td>350015</td>\n",
       "      <td>506280</td>\n",
       "      <td>-2.77237</td>\n",
       "      <td>54.449451</td>\n",
       "      <td>0413c215-94f7-4f2e-a0fd-37d517177413</td>\n",
       "      <td>MULTIPOLYGON (((357136.203 587050.898, 356937....</td>\n",
       "      <td>UKD</td>\n",
       "      <td>North West (England)</td>\n",
       "      <td>0.65</td>\n",
       "    </tr>\n",
       "    <tr>\n",
       "      <th>2</th>\n",
       "      <td>UKE</td>\n",
       "      <td>Yorkshire and The Humber</td>\n",
       "      <td>446903</td>\n",
       "      <td>448736</td>\n",
       "      <td>-1.28712</td>\n",
       "      <td>53.932640</td>\n",
       "      <td>d608863c-86bd-4877-b3b8-247794a0825a</td>\n",
       "      <td>POLYGON ((479999.978 517670.160, 481340.496 51...</td>\n",
       "      <td>UKE</td>\n",
       "      <td>Yorkshire and The Humber</td>\n",
       "      <td>0.63</td>\n",
       "    </tr>\n",
       "    <tr>\n",
       "      <th>3</th>\n",
       "      <td>UKF</td>\n",
       "      <td>East Midlands (England)</td>\n",
       "      <td>477660</td>\n",
       "      <td>322635</td>\n",
       "      <td>-0.84967</td>\n",
       "      <td>52.795719</td>\n",
       "      <td>428c9691-f97b-4fa3-aef8-b3d8c0789cf9</td>\n",
       "      <td>POLYGON ((516022.702 412210.895, 515854.099 41...</td>\n",
       "      <td>UKF</td>\n",
       "      <td>East Midlands (England)</td>\n",
       "      <td>0.21</td>\n",
       "    </tr>\n",
       "    <tr>\n",
       "      <th>4</th>\n",
       "      <td>UKG</td>\n",
       "      <td>West Midlands (England)</td>\n",
       "      <td>386294</td>\n",
       "      <td>295477</td>\n",
       "      <td>-2.20358</td>\n",
       "      <td>52.556969</td>\n",
       "      <td>a8a5953c-6a23-4fca-b1c7-96d80a29dd95</td>\n",
       "      <td>POLYGON ((409402.997 365710.796, 412633.099 36...</td>\n",
       "      <td>UKG</td>\n",
       "      <td>West Midlands (England)</td>\n",
       "      <td>0.47</td>\n",
       "    </tr>\n",
       "  </tbody>\n",
       "</table>\n",
       "</div>"
      ],
      "text/plain": [
       "  nuts118cd                 nuts118nm   bng_e   bng_n     long        lat  \\\n",
       "0       UKC      North East (England)  417313  600358 -1.72890  55.297031   \n",
       "1       UKD      North West (England)  350015  506280 -2.77237  54.449451   \n",
       "2       UKE  Yorkshire and The Humber  446903  448736 -1.28712  53.932640   \n",
       "3       UKF   East Midlands (England)  477660  322635 -0.84967  52.795719   \n",
       "4       UKG   West Midlands (England)  386294  295477 -2.20358  52.556969   \n",
       "\n",
       "                               GlobalID  \\\n",
       "0  628608f5-673c-45c8-9082-f57ed9604a20   \n",
       "1  0413c215-94f7-4f2e-a0fd-37d517177413   \n",
       "2  d608863c-86bd-4877-b3b8-247794a0825a   \n",
       "3  428c9691-f97b-4fa3-aef8-b3d8c0789cf9   \n",
       "4  a8a5953c-6a23-4fca-b1c7-96d80a29dd95   \n",
       "\n",
       "                                            geometry Organisation  \\\n",
       "0  MULTIPOLYGON (((397942.931 657535.008, 400000....          UKC   \n",
       "1  MULTIPOLYGON (((357136.203 587050.898, 356937....          UKD   \n",
       "2  POLYGON ((479999.978 517670.160, 481340.496 51...          UKE   \n",
       "3  POLYGON ((516022.702 412210.895, 515854.099 41...          UKF   \n",
       "4  POLYGON ((409402.997 365710.796, 412633.099 36...          UKG   \n",
       "\n",
       "                       ITL1  Score  \n",
       "0      North East (England)   0.25  \n",
       "1      North West (England)   0.65  \n",
       "2  Yorkshire and The Humber   0.63  \n",
       "3   East Midlands (England)   0.21  \n",
       "4   West Midlands (England)   0.47  "
      ]
     },
     "execution_count": 8,
     "metadata": {},
     "output_type": "execute_result"
    }
   ],
   "source": [
    "shape.head()"
   ]
  },
  {
   "cell_type": "code",
   "execution_count": 39,
   "metadata": {},
   "outputs": [
    {
     "data": {
      "text/plain": [
       "<function matplotlib.pyplot.show(*args, **kw)>"
      ]
     },
     "execution_count": 39,
     "metadata": {},
     "output_type": "execute_result"
    },
    {
     "data": {
      "image/png": "[encoded data removed]",
      "text/plain": [
       "<Figure size 1440x720 with 2 Axes>"
      ]
     },
     "metadata": {
      "needs_background": "light"
     },
     "output_type": "display_data"
    }
   ],
   "source": [
    "ax = shape.boundary.plot(edgecolor='black', linewidth=0.2, figsize=(20,10))\n",
    "shape.plot(ax=ax, column='Score', legend=True, cmap='RdBu', legend_kwds={'label': \"Score percentage\", 'shrink':0.5, 'format': '%.1f%%'})\n",
    "\n",
    "ax.get_xaxis().set_visible(False)\n",
    "ax.get_yaxis().set_visible(False)\n",
    "\n",
    "for edge in ['right', 'bottom', 'top', 'left']:\n",
    "    ax.spines[edge].set_visible(False)\n",
    "\n",
    "ax.set_title('Dummy Score for ITL1 UK Geographies', size=20, weight='bold')\n",
    "\n",
    "plt.show"
   ]
  }
 ],
 "metadata": {
  "kernelspec": {
   "display_name": "Python 3.8.3 ('base')",
   "language": "python",
   "name": "python3"
  },
  "language_info": {
   "codemirror_mode": {
    "name": "ipython",
    "version": 3
   },
   "file_extension": ".py",
   "mimetype": "text/x-python",
   "name": "python",
   "nbconvert_exporter": "python",
   "pygments_lexer": "ipython3",
   "version": "3.8.3"
  },
  "orig_nbformat": 4,
  "vscode": {
   "interpreter": {
    "hash": "47a2da55d6f78ce9947d927475d579d7c61c1cc31777c601d280ed2a510e62c2"
   }
  }
 },
 "nbformat": 4,
 "nbformat_minor": 2
}
